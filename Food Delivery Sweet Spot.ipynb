{
 "cells": [
  {
   "cell_type": "code",
   "execution_count": 1,
   "id": "05bd36ad",
   "metadata": {
    "_cell_guid": "b1076dfc-b9ad-4769-8c92-a6c4dae69d19",
    "_uuid": "8f2839f25d086af736a60e9eeb907d3b93b6e0e5",
    "execution": {
     "iopub.execute_input": "2024-05-27T08:07:46.869592Z",
     "iopub.status.busy": "2024-05-27T08:07:46.869215Z",
     "iopub.status.idle": "2024-05-27T08:07:47.714092Z",
     "shell.execute_reply": "2024-05-27T08:07:47.712868Z"
    },
    "papermill": {
     "duration": 0.852908,
     "end_time": "2024-05-27T08:07:47.716410",
     "exception": false,
     "start_time": "2024-05-27T08:07:46.863502",
     "status": "completed"
    },
    "tags": []
   },
   "outputs": [
    {
     "name": "stdout",
     "output_type": "stream",
     "text": [
      "/kaggle/input/food-delivery-cost-and-profitability/food_orders_new_delhi (1).csv\n"
     ]
    }
   ],
   "source": [
    "# This Python 3 environment comes with many helpful analytics libraries installed\n",
    "# It is defined by the kaggle/python Docker image: https://github.com/kaggle/docker-python\n",
    "# For example, here's several helpful packages to load\n",
    "\n",
    "import numpy as np # linear algebra\n",
    "import pandas as pd # data processing, CSV file I/O (e.g. pd.read_csv)\n",
    "import matplotlib.pyplot as plt\n",
    "\n",
    "# Input data files are available in the read-only \"../input/\" directory\n",
    "# For example, running this (by clicking run or pressing Shift+Enter) will list all files under the input directory\n",
    "\n",
    "import os\n",
    "for dirname, _, filenames in os.walk('/kaggle/input'):\n",
    "    for filename in filenames:\n",
    "        print(os.path.join(dirname, filename))\n",
    "\n",
    "# You can write up to 20GB to the current directory (/kaggle/working/) that gets preserved as output when you create a version using \"Save & Run All\" \n",
    "# You can also write temporary files to /kaggle/temp/, but they won't be saved outside of the current session"
   ]
  },
  {
   "cell_type": "code",
   "execution_count": 2,
   "id": "554b28b4",
   "metadata": {
    "execution": {
     "iopub.execute_input": "2024-05-27T08:07:47.725094Z",
     "iopub.status.busy": "2024-05-27T08:07:47.724639Z",
     "iopub.status.idle": "2024-05-27T08:07:47.764921Z",
     "shell.execute_reply": "2024-05-27T08:07:47.764002Z"
    },
    "papermill": {
     "duration": 0.047046,
     "end_time": "2024-05-27T08:07:47.767259",
     "exception": false,
     "start_time": "2024-05-27T08:07:47.720213",
     "status": "completed"
    },
    "tags": []
   },
   "outputs": [
    {
     "data": {
      "text/html": [
       "<div>\n",
       "<style scoped>\n",
       "    .dataframe tbody tr th:only-of-type {\n",
       "        vertical-align: middle;\n",
       "    }\n",
       "\n",
       "    .dataframe tbody tr th {\n",
       "        vertical-align: top;\n",
       "    }\n",
       "\n",
       "    .dataframe thead th {\n",
       "        text-align: right;\n",
       "    }\n",
       "</style>\n",
       "<table border=\"1\" class=\"dataframe\">\n",
       "  <thead>\n",
       "    <tr style=\"text-align: right;\">\n",
       "      <th></th>\n",
       "      <th>Order ID</th>\n",
       "      <th>Customer ID</th>\n",
       "      <th>Restaurant ID</th>\n",
       "      <th>Order Date and Time</th>\n",
       "      <th>Delivery Date and Time</th>\n",
       "      <th>Order Value</th>\n",
       "      <th>Delivery Fee</th>\n",
       "      <th>Payment Method</th>\n",
       "      <th>Discounts and Offers</th>\n",
       "      <th>Commission Fee</th>\n",
       "      <th>Payment Processing Fee</th>\n",
       "      <th>Refunds/Chargebacks</th>\n",
       "    </tr>\n",
       "  </thead>\n",
       "  <tbody>\n",
       "    <tr>\n",
       "      <th>0</th>\n",
       "      <td>1</td>\n",
       "      <td>C8270</td>\n",
       "      <td>R2924</td>\n",
       "      <td>2024-02-01 01:11:52</td>\n",
       "      <td>2024-02-01 02:39:52</td>\n",
       "      <td>1914</td>\n",
       "      <td>0</td>\n",
       "      <td>Credit Card</td>\n",
       "      <td>5% on App</td>\n",
       "      <td>150</td>\n",
       "      <td>47</td>\n",
       "      <td>0</td>\n",
       "    </tr>\n",
       "    <tr>\n",
       "      <th>1</th>\n",
       "      <td>2</td>\n",
       "      <td>C1860</td>\n",
       "      <td>R2054</td>\n",
       "      <td>2024-02-02 22:11:04</td>\n",
       "      <td>2024-02-02 22:46:04</td>\n",
       "      <td>986</td>\n",
       "      <td>40</td>\n",
       "      <td>Digital Wallet</td>\n",
       "      <td>10%</td>\n",
       "      <td>198</td>\n",
       "      <td>23</td>\n",
       "      <td>0</td>\n",
       "    </tr>\n",
       "    <tr>\n",
       "      <th>2</th>\n",
       "      <td>3</td>\n",
       "      <td>C6390</td>\n",
       "      <td>R2870</td>\n",
       "      <td>2024-01-31 05:54:35</td>\n",
       "      <td>2024-01-31 06:52:35</td>\n",
       "      <td>937</td>\n",
       "      <td>30</td>\n",
       "      <td>Cash on Delivery</td>\n",
       "      <td>15% New User</td>\n",
       "      <td>195</td>\n",
       "      <td>45</td>\n",
       "      <td>0</td>\n",
       "    </tr>\n",
       "    <tr>\n",
       "      <th>3</th>\n",
       "      <td>4</td>\n",
       "      <td>C6191</td>\n",
       "      <td>R2642</td>\n",
       "      <td>2024-01-16 22:52:49</td>\n",
       "      <td>2024-01-16 23:38:49</td>\n",
       "      <td>1463</td>\n",
       "      <td>50</td>\n",
       "      <td>Cash on Delivery</td>\n",
       "      <td>NaN</td>\n",
       "      <td>146</td>\n",
       "      <td>27</td>\n",
       "      <td>0</td>\n",
       "    </tr>\n",
       "    <tr>\n",
       "      <th>4</th>\n",
       "      <td>5</td>\n",
       "      <td>C6734</td>\n",
       "      <td>R2799</td>\n",
       "      <td>2024-01-29 01:19:30</td>\n",
       "      <td>2024-01-29 02:48:30</td>\n",
       "      <td>1992</td>\n",
       "      <td>30</td>\n",
       "      <td>Cash on Delivery</td>\n",
       "      <td>50 off Promo</td>\n",
       "      <td>130</td>\n",
       "      <td>50</td>\n",
       "      <td>0</td>\n",
       "    </tr>\n",
       "  </tbody>\n",
       "</table>\n",
       "</div>"
      ],
      "text/plain": [
       "   Order ID Customer ID Restaurant ID  Order Date and Time  \\\n",
       "0         1       C8270         R2924  2024-02-01 01:11:52   \n",
       "1         2       C1860         R2054  2024-02-02 22:11:04   \n",
       "2         3       C6390         R2870  2024-01-31 05:54:35   \n",
       "3         4       C6191         R2642  2024-01-16 22:52:49   \n",
       "4         5       C6734         R2799  2024-01-29 01:19:30   \n",
       "\n",
       "  Delivery Date and Time  Order Value  Delivery Fee    Payment Method  \\\n",
       "0    2024-02-01 02:39:52         1914             0       Credit Card   \n",
       "1    2024-02-02 22:46:04          986            40    Digital Wallet   \n",
       "2    2024-01-31 06:52:35          937            30  Cash on Delivery   \n",
       "3    2024-01-16 23:38:49         1463            50  Cash on Delivery   \n",
       "4    2024-01-29 02:48:30         1992            30  Cash on Delivery   \n",
       "\n",
       "  Discounts and Offers  Commission Fee  Payment Processing Fee  \\\n",
       "0            5% on App             150                      47   \n",
       "1                  10%             198                      23   \n",
       "2         15% New User             195                      45   \n",
       "3                  NaN             146                      27   \n",
       "4         50 off Promo             130                      50   \n",
       "\n",
       "   Refunds/Chargebacks  \n",
       "0                    0  \n",
       "1                    0  \n",
       "2                    0  \n",
       "3                    0  \n",
       "4                    0  "
      ]
     },
     "execution_count": 2,
     "metadata": {},
     "output_type": "execute_result"
    }
   ],
   "source": [
    "path='../input/food-delivery-cost-and-profitability/food_orders_new_delhi (1).csv'\n",
    "data=pd.read_csv(path)\n",
    "data.head()"
   ]
  },
  {
   "cell_type": "markdown",
   "id": "7f31c9e0",
   "metadata": {
    "papermill": {
     "duration": 0.00395,
     "end_time": "2024-05-27T08:07:47.775336",
     "exception": false,
     "start_time": "2024-05-27T08:07:47.771386",
     "status": "completed"
    },
    "tags": []
   },
   "source": [
    "**Detailed Cost Analysis:**\n",
    "dentify the major cost components and calculate the sum of (total costs for each order)."
   ]
  },
  {
   "cell_type": "code",
   "execution_count": 3,
   "id": "b76355f4",
   "metadata": {
    "execution": {
     "iopub.execute_input": "2024-05-27T08:07:47.784402Z",
     "iopub.status.busy": "2024-05-27T08:07:47.784044Z",
     "iopub.status.idle": "2024-05-27T08:07:49.400590Z",
     "shell.execute_reply": "2024-05-27T08:07:49.399580Z"
    },
    "papermill": {
     "duration": 1.624309,
     "end_time": "2024-05-27T08:07:49.403259",
     "exception": false,
     "start_time": "2024-05-27T08:07:47.778950",
     "status": "completed"
    },
    "tags": []
   },
   "outputs": [
    {
     "name": "stdout",
     "output_type": "stream",
     "text": [
      "   Delivery Cost  Discount Cost  Payment Processing Cost  Commission Fee  \\\n",
      "0              0          95.70                       47             150   \n",
      "1             40          98.60                       23             198   \n",
      "2             30         140.55                       45             195   \n",
      "3             50            NaN                       27             146   \n",
      "4             30          50.00                       50             130   \n",
      "\n",
      "   Refunds/Chargebacks  Total Costs  \n",
      "0                    0       142.70  \n",
      "1                    0       161.60  \n",
      "2                    0       215.55  \n",
      "3                    0        77.00  \n",
      "4                    0       130.00  \n",
      "Delivery Cost               28620.00\n",
      "Discount Cost               74289.85\n",
      "Payment Processing Cost     29832.00\n",
      "Total Costs                132741.85\n",
      "dtype: float64\n"
     ]
    }
   ],
   "source": [
    "\n",
    "#For Extracting Numeric Data From Column Discount Having Data like 50% on App, 50 off etc.\n",
    "#To do so, def a function extract_numeric\n",
    "#Function to extract numeric values and handle percentages\n",
    "def extract_numeric(row):\n",
    "    discount_offer = str(row['Discounts and Offers'])  # Ensure the value is treated as a string\n",
    "    order_value = row['Order Value']\n",
    "    \n",
    "    # Extract numeric part and percentage sign if present\n",
    "    match = pd.Series(discount_offer).str.extract(r'(\\d+)(%)?', expand=False)\n",
    "    # Convert the numeric part to a float\n",
    "    num = pd.to_numeric(match[0], errors='coerce')\n",
    "    # Calculate the discount amount\n",
    "    discount_amount = num.where(match[1] != '%', num * order_value / 100)\n",
    "    return discount_amount.iloc[0]\n",
    "\n",
    "# Apply the function to each row using .apply with axis=1\n",
    "data['Discount Cost'] = data.apply(extract_numeric, axis=1)\n",
    "data['Delivery Cost'] = data['Delivery Fee']\n",
    "#data['Commission Fee']=data['Commission Fee']\n",
    "data['Payment Processing Cost'] = data['Payment Processing Fee']\n",
    "#data['Refunds/Chargebacks']=data['Refunds/Chargebacks']\n",
    "\n",
    "data['Total Costs'] = (\n",
    "                    data['Delivery Cost'] + \n",
    "                    data['Discount Cost'].fillna(0) + \n",
    "                    data['Payment Processing Cost']\n",
    "                    #+data['Commission Fee']\n",
    "                    #+data['Refunds/Chargebacks']\n",
    "                    )\n",
    "\n",
    "# Summarize cost components\n",
    "cost_summary = data[[\n",
    "                    'Delivery Cost', \n",
    "                    'Discount Cost', \n",
    "                    'Payment Processing Cost',\n",
    "                    'Commission Fee', \n",
    "                    'Refunds/Chargebacks',\n",
    "                    'Total Costs']].head()\n",
    "cost_summary_total = data[[\n",
    "                    'Delivery Cost', \n",
    "                    'Discount Cost', \n",
    "                    'Payment Processing Cost',\n",
    "                    #'Commission Fee', \n",
    "                    #'Refunds/Chargebacks',\n",
    "                    'Total Costs']].sum()\n",
    "\n",
    "print(cost_summary,cost_summary_total,sep='\\n')\n",
    "\n",
    "#print(data.head())"
   ]
  },
  {
   "cell_type": "markdown",
   "id": "e367c75f",
   "metadata": {
    "papermill": {
     "duration": 0.003633,
     "end_time": "2024-05-27T08:07:49.411323",
     "exception": false,
     "start_time": "2024-05-27T08:07:49.407690",
     "status": "completed"
    },
    "tags": []
   },
   "source": [
    "**Profitability Evaluation:**\n",
    "Calculate the profitability for each order and overall profitability."
   ]
  },
  {
   "cell_type": "code",
   "execution_count": 4,
   "id": "f7e2a049",
   "metadata": {
    "execution": {
     "iopub.execute_input": "2024-05-27T08:07:49.420489Z",
     "iopub.status.busy": "2024-05-27T08:07:49.420135Z",
     "iopub.status.idle": "2024-05-27T08:07:49.435046Z",
     "shell.execute_reply": "2024-05-27T08:07:49.434054Z"
    },
    "papermill": {
     "duration": 0.022788,
     "end_time": "2024-05-27T08:07:49.437913",
     "exception": false,
     "start_time": "2024-05-27T08:07:49.415125",
     "status": "completed"
    },
    "tags": []
   },
   "outputs": [
    {
     "name": "stdout",
     "output_type": "stream",
     "text": [
      "   Order ID  Order Value  Commission Fee  Refunds/Chargebacks  Profit  \\\n",
      "0         1         1914             150                    0    7.30   \n",
      "1         2          986             198                    0   36.40   \n",
      "2         3          937             195                    0  -20.55   \n",
      "3         4         1463             146                    0   69.00   \n",
      "4         5         1992             130                    0    0.00   \n",
      "\n",
      "   Total Costs  \n",
      "0       142.70  \n",
      "1       161.60  \n",
      "2       215.55  \n",
      "3        77.00  \n",
      "4       130.00  \n",
      "Order Value            1053969.00\n",
      "Revenue                 126990.00\n",
      "Profit                  -34051.85\n",
      "Total Costs             132741.85\n",
      "Refunds/Chargebacks      28300.00\n",
      "dtype: float64\n"
     ]
    }
   ],
   "source": [
    "# Calculate revenue\n",
    "data['Revenue'] = data['Commission Fee']\n",
    "\n",
    "# Calculate profitability per order\n",
    "data['Profit'] = data['Revenue'] - data['Total Costs'] - data['Refunds/Chargebacks']\n",
    "\n",
    "\n",
    "# Profitability per order\n",
    "profit_summary = data[['Order ID', 'Order Value','Commission Fee', \n",
    "                    'Refunds/Chargebacks','Profit','Total Costs']].head()\n",
    "print(profit_summary)\n",
    "\n",
    "# Overall profitability\n",
    "#total_profit = data['Profit'].sum()\n",
    "profit_summary_total = data[['Order Value','Revenue','Profit','Total Costs','Refunds/Chargebacks']].sum()\n",
    "print(profit_summary_total)\n"
   ]
  },
  {
   "cell_type": "markdown",
   "id": "401eb168",
   "metadata": {
    "papermill": {
     "duration": 0.003821,
     "end_time": "2024-05-27T08:07:49.446032",
     "exception": false,
     "start_time": "2024-05-27T08:07:49.442211",
     "status": "completed"
    },
    "tags": []
   },
   "source": [
    "**Strategic Recommendations for Improvement:**\n",
    "Analyze the data to find potential adjustments in pricing, commission fees, and discount strategies."
   ]
  },
  {
   "cell_type": "code",
   "execution_count": 5,
   "id": "e2ac6e78",
   "metadata": {
    "execution": {
     "iopub.execute_input": "2024-05-27T08:07:49.455998Z",
     "iopub.status.busy": "2024-05-27T08:07:49.455622Z",
     "iopub.status.idle": "2024-05-27T08:08:01.051835Z",
     "shell.execute_reply": "2024-05-27T08:08:01.050839Z"
    },
    "papermill": {
     "duration": 11.604445,
     "end_time": "2024-05-27T08:08:01.054514",
     "exception": false,
     "start_time": "2024-05-27T08:07:49.450069",
     "status": "completed"
    },
    "tags": []
   },
   "outputs": [
    {
     "name": "stdout",
     "output_type": "stream",
     "text": [
      "Average Commission Rate:  12.049 %\n",
      "Average Discount Rate:    8.649 % \n",
      "\n",
      "Sweet Spot - Commission Rate: 30.750%, Discount Rate: 0.000%, Max Profit: 237343.46750000023\n"
     ]
    },
    {
     "data": {
      "image/png": "[encoded data removed]",
      "text/plain": [
       "<Figure size 1000x600 with 2 Axes>"
      ]
     },
     "metadata": {},
     "output_type": "display_data"
    }
   ],
   "source": [
    "# Find current average commission and discount rates\n",
    "avg_commission_rate = data['Commission Fee'].mean() / data['Order Value'].mean()\n",
    "avg_discount_rate = data['Discount Cost'].mean() / data['Order Value'].mean()\n",
    "\n",
    "print('Average Commission Rate:  {:.3f} %'.format(avg_commission_rate*100))\n",
    "print('Average Discount Rate:    {:.3f} %'.format(avg_discount_rate*100),'\\n')\n",
    "\n",
    "\n",
    "# Define ranges for commission and discount rates\n",
    "\"\"\"np.arange(start, stop, step): \n",
    "This function generates values in a given range with a specified step size.\"\"\"\n",
    "\n",
    "commission_rates = np.arange(0.05, 0.31, 0.0025)  # 5% to 30% It does not include 31% because stop is exclusive.\n",
    "discount_rates = np.arange(0.00, 0.21, 0.0025)    # 0% to 20%\n",
    "\n",
    "best_commission_rate = 0\n",
    "best_discount_rate = 0\n",
    "max_profit = -np.inf\n",
    "\"\"\"max_profit = -np.inf: This initializes the maximum profit to negative infinity, \n",
    "ensuring that any calculated profit will be larger.\"\"\"\n",
    "\n",
    "\"\"\"initializes a 2D array (matrix) filled with zeros. \n",
    "This matrix will be used to store the calculated profits for each combination of commission rates and discount rates.\"\"\"\n",
    "\n",
    "profit_matrix = np.zeros((len(commission_rates), len(discount_rates)))\n",
    "\n",
    "\n",
    "\"\"\"1. np.zeros(shape): This function creates an array of the given shape, filled with zeros. \n",
    "The shape is specified as a tuple, indicating the dimensions of the array.\n",
    "\n",
    "2. len(commission_rates): This returns the number of elements in the commission_rates array.\n",
    "\n",
    "3. len(discount_rates): This returns the number of elements in the discount_rates array.\n",
    "4. (len(commission_rates), len(discount_rates)): This tuple represents the dimensions of the 2D array. \n",
    "The number of rows will be equal to the number of commission rates, \n",
    "and the number of columns will be equal to the number of discount rates.\"\"\"\n",
    "\n",
    "# Function to calculate profit given commission and discount rates\n",
    "def calculate_profit(data, commission_rate, discount_rate):\n",
    "    data['New Commission Fee'] = data['Order Value'] * commission_rate\n",
    "    data['New Discount Cost'] = data['Order Value'] * discount_rate\n",
    "    data['New Total Costs'] = data['Delivery Fee'] + data['New Discount Cost'] + data['Payment Processing Fee']\n",
    "    data['New Profit'] = data['New Commission Fee'] - data['New Total Costs'] - data['Refunds/Chargebacks']\n",
    "    total_profit = data['New Profit'].sum()\n",
    "    return total_profit\n",
    "\n",
    "\n",
    "\n",
    "for i, commission_rate in enumerate(commission_rates):\n",
    "    for j, discount_rate in enumerate(discount_rates):\n",
    "        profit = calculate_profit(data, commission_rate, discount_rate)\n",
    "        profit_matrix[i, j] = profit\n",
    "        if profit > max_profit:\n",
    "            max_profit = profit\n",
    "            best_commission_rate = commission_rate\n",
    "            best_discount_rate = discount_rate\n",
    "\n",
    "print(f'Sweet Spot - Commission Rate: {best_commission_rate*100:.3f}%, Discount Rate: {best_discount_rate*100:.3f}%, Max Profit: {max_profit}')\n",
    "\n",
    "# Visualize the profit matrix\n",
    "plt.figure(figsize=(10, 6))\n",
    "plt.imshow(profit_matrix, aspect='auto', cmap='viridis', extent=[discount_rates.min(), discount_rates.max(), commission_rates.min(), commission_rates.max()])\n",
    "plt.colorbar(label='Total Profit')\n",
    "plt.title('Profit Heatmap')\n",
    "plt.xlabel('Discount Rate')\n",
    "plt.ylabel('Commission Rate')\n",
    "plt.scatter([best_discount_rate], [best_commission_rate], color='red')\n",
    "plt.show()\n",
    "\n",
    "\n",
    "\n",
    "\n",
    "\n"
   ]
  },
  {
   "cell_type": "markdown",
   "id": "888e0c55",
   "metadata": {
    "papermill": {
     "duration": 0.005029,
     "end_time": "2024-05-27T08:08:01.064769",
     "exception": false,
     "start_time": "2024-05-27T08:08:01.059740",
     "status": "completed"
    },
    "tags": []
   },
   "source": [
    "**Impact Simulation of Proposed Strategies:**\n",
    "Simulate the impact of the recommended strategies on profitability."
   ]
  }
 ],
 "metadata": {
  "kaggle": {
   "accelerator": "none",
   "dataSources": [
    {
     "datasetId": 5072200,
     "sourceId": 8499662,
     "sourceType": "datasetVersion"
    }
   ],
   "dockerImageVersionId": 30698,
   "isGpuEnabled": false,
   "isInternetEnabled": false,
   "language": "python",
   "sourceType": "notebook"
  },
  "kernelspec": {
   "display_name": "Python 3",
   "language": "python",
   "name": "python3"
  },
  "language_info": {
   "codemirror_mode": {
    "name": "ipython",
    "version": 3
   },
   "file_extension": ".py",
   "mimetype": "text/x-python",
   "name": "python",
   "nbconvert_exporter": "python",
   "pygments_lexer": "ipython3",
   "version": "3.10.13"
  },
  "papermill": {
   "default_parameters": {},
   "duration": 17.4167,
   "end_time": "2024-05-27T08:08:01.489593",
   "environment_variables": {},
   "exception": null,
   "input_path": "__notebook__.ipynb",
   "output_path": "__notebook__.ipynb",
   "parameters": {},
   "start_time": "2024-05-27T08:07:44.072893",
   "version": "2.5.0"
  }
 },
 "nbformat": 4,
 "nbformat_minor": 5
}
